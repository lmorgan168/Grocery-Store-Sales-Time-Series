{
  "nbformat": 4,
  "nbformat_minor": 0,
  "metadata": {
    "colab": {
      "name": "273_mlp.ipynb",
      "provenance": [],
      "collapsed_sections": []
    },
    "kernelspec": {
      "name": "python3",
      "display_name": "Python 3"
    },
    "language_info": {
      "name": "python"
    }
  },
  "cells": [
    {
      "cell_type": "code",
      "source": [
        "from google.colab import drive\n",
        "drive.mount('/content/gdrive')"
      ],
      "metadata": {
        "colab": {
          "base_uri": "https://localhost:8080/"
        },
        "id": "MZ8R12OlWIAX",
        "outputId": "976bca3d-1306-488a-d0b6-c87fff34b9cb"
      },
      "execution_count": 1,
      "outputs": [
        {
          "output_type": "stream",
          "name": "stdout",
          "text": [
            "Mounted at /content/gdrive\n"
          ]
        }
      ]
    },
    {
      "cell_type": "code",
      "execution_count": 15,
      "metadata": {
        "id": "BehThyP7KijO"
      },
      "outputs": [],
      "source": [
        "import numpy as np\n",
        "import pandas as pd\n",
        "\n",
        "from datetime import datetime\n",
        "from datetime import timedelta\n",
        "\n",
        "%matplotlib inline\n",
        "import matplotlib.pyplot as plt\n",
        "\n",
        "from keras.models import Sequential\n",
        "from keras.layers import Dense\n",
        "\n",
        "from sklearn.metrics import mean_squared_error"
      ]
    },
    {
      "cell_type": "markdown",
      "source": [
        "Read csv's, save as dataframes"
      ],
      "metadata": {
        "id": "RSQ7R8LQPcxO"
      }
    },
    {
      "cell_type": "code",
      "source": [
        "oil_df = pd.read_csv(\"/content/gdrive/MyDrive/grocery_sales/oil.csv\")\n",
        "holiday_df = pd.read_csv(\"/content/gdrive/MyDrive/grocery_sales/holidays_events.csv\")\n",
        "stores_df = pd.read_csv(\"/content/gdrive/MyDrive/grocery_sales/stores.csv\")\n",
        "train_df = pd.read_csv(\"/content/gdrive/MyDrive/grocery_sales/train.csv\")"
      ],
      "metadata": {
        "id": "7u-JSQv-PhQ4"
      },
      "execution_count": 3,
      "outputs": []
    },
    {
      "cell_type": "markdown",
      "source": [
        "Merge oil and stores df's"
      ],
      "metadata": {
        "id": "guezN4vXPqZF"
      }
    },
    {
      "cell_type": "code",
      "source": [
        "train_df = train_df.merge(oil_df, how = 'left', on = 'date')\n",
        "train_df = train_df.merge(stores_df, how = 'left', on = 'store_nbr')"
      ],
      "metadata": {
        "id": "iF0Vy4koPjIF"
      },
      "execution_count": 4,
      "outputs": []
    },
    {
      "cell_type": "markdown",
      "source": [
        "Initialize extra columns for binary encoding"
      ],
      "metadata": {
        "id": "UMFW5BvxPxE8"
      }
    },
    {
      "cell_type": "code",
      "source": [
        "# initialize holiday location types\n",
        "train_df['local_holiday'] = 0\n",
        "train_df['reg_holiday'] = 0\n",
        "train_df['nat_holiday'] = 0\n",
        "\n",
        "# initialize store types\n",
        "train_df['type_a'] = 0\n",
        "train_df['type_b'] = 0\n",
        "train_df['type_c'] = 0\n",
        "train_df['type_d'] = 0\n",
        "train_df['type_e'] = 0\n",
        "\n",
        "# initialize holiday types\n",
        "train_df['holiday_day'] = 0\n",
        "train_df['addtnl_day'] = 0\n",
        "train_df['bridge_day'] = 0\n",
        "train_df['work_day'] = 0\n",
        "train_df['transfer_day'] = 0\n",
        "\n",
        "# initialize transferred boolean\n",
        "train_df['transfer_bool'] = 0"
      ],
      "metadata": {
        "id": "V0hMeClJPwld"
      },
      "execution_count": 5,
      "outputs": []
    },
    {
      "cell_type": "markdown",
      "source": [
        "One-hot encode product families"
      ],
      "metadata": {
        "id": "uXffumrWP3GG"
      }
    },
    {
      "cell_type": "code",
      "source": [
        "prod_df = pd.get_dummies(train_df.family)\n",
        "train_df = train_df.join(prod_df)"
      ],
      "metadata": {
        "id": "Xp8_nsoXP2ap"
      },
      "execution_count": 6,
      "outputs": []
    },
    {
      "cell_type": "markdown",
      "source": [
        "One-hot encode holidays and store types"
      ],
      "metadata": {
        "id": "GX41_YMXP7em"
      }
    },
    {
      "cell_type": "code",
      "source": [
        "for index, row in holiday_df.iterrows():\n",
        "    \n",
        "    if row['transferred'] == True:\n",
        "        \n",
        "        train_df['transfer_bool'][train_df['date'] == row['date']] = 1\n",
        "        \n",
        "    if row['locale'] == 'National':\n",
        "        \n",
        "        train_df['nat_holiday'][train_df['date'] == row['date']] = 1\n",
        "        \n",
        "        if row['type'] == 'Holiday':\n",
        "            train_df['holiday_day'][train_df['date'] == row['date']] = 1  \n",
        "        elif row['type'] == 'Additional':\n",
        "            train_df['addtnl_day'][train_df['date'] == row['date']] = 1   \n",
        "        elif row['type'] == 'Bridge':\n",
        "            train_df['bridge_day'][train_df['date'] == row['date']] = 1\n",
        "        elif row['type'] == 'Work':\n",
        "            train_df['work_day'][train_df['date'] == row['date']] = 1\n",
        "        elif row['type'] == 'Transfer':\n",
        "            train_df['transfer_day'][train_df['date'] == row['date']] = 1\n",
        "        \n",
        "    elif row['locale'] == 'Regional':\n",
        "        \n",
        "        train_df['reg_holiday'][(train_df['date'] == row['date']) \n",
        "                                & (train_df['state'] == row['locale_name'])] = 1\n",
        "        \n",
        "        if row['type'] == 'Holiday':\n",
        "            train_df['holiday_day'][(train_df['date'] == row['date']) \n",
        "                                    & (train_df['state'] == row['locale_name'])] = 1\n",
        "        elif row['type'] == 'Additional':\n",
        "            train_df['addtnl_day'][(train_df['date'] == row['date']) \n",
        "                                   & (train_df['state'] == row['locale_name'])] = 1\n",
        "        elif row['type'] == 'Bridge':\n",
        "            train_df['bridge_day'][(train_df['date'] == row['date']) \n",
        "                                   & (train_df['state'] == row['locale_name'])] = 1\n",
        "        elif row['type'] == 'Work':\n",
        "            train_df['work_day'][(train_df['date'] == row['date']) \n",
        "                                 & (train_df['state'] == row['locale_name'])] = 1\n",
        "        elif row['type'] == 'Transfer':\n",
        "            train_df['transfer_day'][(train_df['date'] == row['date']) \n",
        "                                     & (train_df['state'] == row['locale_name'])] = 1\n",
        "        \n",
        "    elif row['locale'] == 'Local':\n",
        "        \n",
        "        train_df['local_holiday'][(train_df['date'] == row['date']) \n",
        "                                  & (train_df['city'] == row['locale_name'])] = 1\n",
        "        \n",
        "        if row['type'] == 'Holiday':\n",
        "            train_df['holiday_day'][(train_df['date'] == row['date']) \n",
        "                                    & (train_df['city'] == row['locale_name'])] = 1   \n",
        "        elif row['type'] == 'Additional':\n",
        "            train_df['addtnl_day'][(train_df['date'] == row['date']) \n",
        "                                   & (train_df['city'] == row['locale_name'])] = 1   \n",
        "        elif row['type'] == 'Bridge':\n",
        "            train_df['bridge_day'][(train_df['date'] == row['date']) \n",
        "                                   & (train_df['city'] == row['locale_name'])] = 1\n",
        "        elif row['type'] == 'Work':\n",
        "            train_df['work_day'][(train_df['date'] == row['date']) \n",
        "                                 & (train_df['city'] == row['locale_name'])] = 1   \n",
        "        elif row['type'] == 'Transfer':\n",
        "            train_df['transfer_day'][(train_df['date'] == row['date']) \n",
        "                                     & (train_df['city'] == row['locale_name'])] = 1"
      ],
      "metadata": {
        "id": "gi16zw9fP7EG"
      },
      "execution_count": null,
      "outputs": []
    },
    {
      "cell_type": "code",
      "source": [
        "for index, row in stores_df.iterrows():\n",
        "    \n",
        "    if row['type'] == \"A\":\n",
        "        train_df['type_a'][train_df['store_nbr'] == row['store_nbr']] = 1\n",
        "    elif row['type'] == \"B\":\n",
        "        train_df['type_b'][train_df['store_nbr'] == row['store_nbr']] = 1  \n",
        "    elif row['type'] == \"C\":\n",
        "        train_df['type_c'][train_df['store_nbr'] == row['store_nbr']] = 1 \n",
        "    elif row['type'] == \"D\":\n",
        "        train_df['type_d'][train_df['store_nbr'] == row['store_nbr']] = 1  \n",
        "    elif row['type'] == \"E\":\n",
        "        train_df['type_e'][train_df['store_nbr'] == row['store_nbr']] = 1"
      ],
      "metadata": {
        "id": "U6NWm8ZGQEbP"
      },
      "execution_count": null,
      "outputs": []
    },
    {
      "cell_type": "markdown",
      "source": [
        "Clean up and view train_df"
      ],
      "metadata": {
        "id": "KZd79O-nQIyM"
      }
    },
    {
      "cell_type": "code",
      "source": [
        "train_df = train_df.drop(columns=['type', 'city', 'state', 'cluster', 'id', 'family', 'SEAFOOD'])\n",
        "train_df = train_df.rename(columns={'dcoilwtico': \"oil_price\"})\n",
        "train_df['oil_price'] = train_df['oil_price'].fillna(method='bfill')\n",
        "\n",
        "train_df.head()"
      ],
      "metadata": {
        "colab": {
          "base_uri": "https://localhost:8080/",
          "height": 433
        },
        "id": "lz5Jr5fsQQvc",
        "outputId": "726da75d-2030-4ac9-8e9a-c0424910fc55"
      },
      "execution_count": 9,
      "outputs": [
        {
          "output_type": "execute_result",
          "data": {
            "text/plain": [
              "         date  store_nbr  sales  onpromotion  oil_price  local_holiday  \\\n",
              "0  2013-01-01          1    0.0            0      93.14              0   \n",
              "1  2013-01-01          1    0.0            0      93.14              0   \n",
              "2  2013-01-01          1    0.0            0      93.14              0   \n",
              "3  2013-01-01          1    0.0            0      93.14              0   \n",
              "4  2013-01-01          1    0.0            0      93.14              0   \n",
              "\n",
              "   reg_holiday  nat_holiday  type_a  type_b  ...  LIQUOR,WINE,BEER  MAGAZINES  \\\n",
              "0            0            1       0       0  ...                 0          0   \n",
              "1            0            1       0       0  ...                 0          0   \n",
              "2            0            1       0       0  ...                 0          0   \n",
              "3            0            1       0       0  ...                 0          0   \n",
              "4            0            1       0       0  ...                 0          0   \n",
              "\n",
              "   MEATS  PERSONAL CARE  PET SUPPLIES  PLAYERS AND ELECTRONICS  POULTRY  \\\n",
              "0      0              0             0                        0        0   \n",
              "1      0              0             0                        0        0   \n",
              "2      0              0             0                        0        0   \n",
              "3      0              0             0                        0        0   \n",
              "4      0              0             0                        0        0   \n",
              "\n",
              "   PREPARED FOODS  PRODUCE  SCHOOL AND OFFICE SUPPLIES  \n",
              "0               0        0                           0  \n",
              "1               0        0                           0  \n",
              "2               0        0                           0  \n",
              "3               0        0                           0  \n",
              "4               0        0                           0  \n",
              "\n",
              "[5 rows x 51 columns]"
            ],
            "text/html": [
              "\n",
              "  <div id=\"df-e8fd9ee4-0cb5-416d-ba59-523a52076759\">\n",
              "    <div class=\"colab-df-container\">\n",
              "      <div>\n",
              "<style scoped>\n",
              "    .dataframe tbody tr th:only-of-type {\n",
              "        vertical-align: middle;\n",
              "    }\n",
              "\n",
              "    .dataframe tbody tr th {\n",
              "        vertical-align: top;\n",
              "    }\n",
              "\n",
              "    .dataframe thead th {\n",
              "        text-align: right;\n",
              "    }\n",
              "</style>\n",
              "<table border=\"1\" class=\"dataframe\">\n",
              "  <thead>\n",
              "    <tr style=\"text-align: right;\">\n",
              "      <th></th>\n",
              "      <th>date</th>\n",
              "      <th>store_nbr</th>\n",
              "      <th>sales</th>\n",
              "      <th>onpromotion</th>\n",
              "      <th>oil_price</th>\n",
              "      <th>local_holiday</th>\n",
              "      <th>reg_holiday</th>\n",
              "      <th>nat_holiday</th>\n",
              "      <th>type_a</th>\n",
              "      <th>type_b</th>\n",
              "      <th>...</th>\n",
              "      <th>LIQUOR,WINE,BEER</th>\n",
              "      <th>MAGAZINES</th>\n",
              "      <th>MEATS</th>\n",
              "      <th>PERSONAL CARE</th>\n",
              "      <th>PET SUPPLIES</th>\n",
              "      <th>PLAYERS AND ELECTRONICS</th>\n",
              "      <th>POULTRY</th>\n",
              "      <th>PREPARED FOODS</th>\n",
              "      <th>PRODUCE</th>\n",
              "      <th>SCHOOL AND OFFICE SUPPLIES</th>\n",
              "    </tr>\n",
              "  </thead>\n",
              "  <tbody>\n",
              "    <tr>\n",
              "      <th>0</th>\n",
              "      <td>2013-01-01</td>\n",
              "      <td>1</td>\n",
              "      <td>0.0</td>\n",
              "      <td>0</td>\n",
              "      <td>93.14</td>\n",
              "      <td>0</td>\n",
              "      <td>0</td>\n",
              "      <td>1</td>\n",
              "      <td>0</td>\n",
              "      <td>0</td>\n",
              "      <td>...</td>\n",
              "      <td>0</td>\n",
              "      <td>0</td>\n",
              "      <td>0</td>\n",
              "      <td>0</td>\n",
              "      <td>0</td>\n",
              "      <td>0</td>\n",
              "      <td>0</td>\n",
              "      <td>0</td>\n",
              "      <td>0</td>\n",
              "      <td>0</td>\n",
              "    </tr>\n",
              "    <tr>\n",
              "      <th>1</th>\n",
              "      <td>2013-01-01</td>\n",
              "      <td>1</td>\n",
              "      <td>0.0</td>\n",
              "      <td>0</td>\n",
              "      <td>93.14</td>\n",
              "      <td>0</td>\n",
              "      <td>0</td>\n",
              "      <td>1</td>\n",
              "      <td>0</td>\n",
              "      <td>0</td>\n",
              "      <td>...</td>\n",
              "      <td>0</td>\n",
              "      <td>0</td>\n",
              "      <td>0</td>\n",
              "      <td>0</td>\n",
              "      <td>0</td>\n",
              "      <td>0</td>\n",
              "      <td>0</td>\n",
              "      <td>0</td>\n",
              "      <td>0</td>\n",
              "      <td>0</td>\n",
              "    </tr>\n",
              "    <tr>\n",
              "      <th>2</th>\n",
              "      <td>2013-01-01</td>\n",
              "      <td>1</td>\n",
              "      <td>0.0</td>\n",
              "      <td>0</td>\n",
              "      <td>93.14</td>\n",
              "      <td>0</td>\n",
              "      <td>0</td>\n",
              "      <td>1</td>\n",
              "      <td>0</td>\n",
              "      <td>0</td>\n",
              "      <td>...</td>\n",
              "      <td>0</td>\n",
              "      <td>0</td>\n",
              "      <td>0</td>\n",
              "      <td>0</td>\n",
              "      <td>0</td>\n",
              "      <td>0</td>\n",
              "      <td>0</td>\n",
              "      <td>0</td>\n",
              "      <td>0</td>\n",
              "      <td>0</td>\n",
              "    </tr>\n",
              "    <tr>\n",
              "      <th>3</th>\n",
              "      <td>2013-01-01</td>\n",
              "      <td>1</td>\n",
              "      <td>0.0</td>\n",
              "      <td>0</td>\n",
              "      <td>93.14</td>\n",
              "      <td>0</td>\n",
              "      <td>0</td>\n",
              "      <td>1</td>\n",
              "      <td>0</td>\n",
              "      <td>0</td>\n",
              "      <td>...</td>\n",
              "      <td>0</td>\n",
              "      <td>0</td>\n",
              "      <td>0</td>\n",
              "      <td>0</td>\n",
              "      <td>0</td>\n",
              "      <td>0</td>\n",
              "      <td>0</td>\n",
              "      <td>0</td>\n",
              "      <td>0</td>\n",
              "      <td>0</td>\n",
              "    </tr>\n",
              "    <tr>\n",
              "      <th>4</th>\n",
              "      <td>2013-01-01</td>\n",
              "      <td>1</td>\n",
              "      <td>0.0</td>\n",
              "      <td>0</td>\n",
              "      <td>93.14</td>\n",
              "      <td>0</td>\n",
              "      <td>0</td>\n",
              "      <td>1</td>\n",
              "      <td>0</td>\n",
              "      <td>0</td>\n",
              "      <td>...</td>\n",
              "      <td>0</td>\n",
              "      <td>0</td>\n",
              "      <td>0</td>\n",
              "      <td>0</td>\n",
              "      <td>0</td>\n",
              "      <td>0</td>\n",
              "      <td>0</td>\n",
              "      <td>0</td>\n",
              "      <td>0</td>\n",
              "      <td>0</td>\n",
              "    </tr>\n",
              "  </tbody>\n",
              "</table>\n",
              "<p>5 rows × 51 columns</p>\n",
              "</div>\n",
              "      <button class=\"colab-df-convert\" onclick=\"convertToInteractive('df-e8fd9ee4-0cb5-416d-ba59-523a52076759')\"\n",
              "              title=\"Convert this dataframe to an interactive table.\"\n",
              "              style=\"display:none;\">\n",
              "        \n",
              "  <svg xmlns=\"http://www.w3.org/2000/svg\" height=\"24px\"viewBox=\"0 0 24 24\"\n",
              "       width=\"24px\">\n",
              "    <path d=\"M0 0h24v24H0V0z\" fill=\"none\"/>\n",
              "    <path d=\"M18.56 5.44l.94 2.06.94-2.06 2.06-.94-2.06-.94-.94-2.06-.94 2.06-2.06.94zm-11 1L8.5 8.5l.94-2.06 2.06-.94-2.06-.94L8.5 2.5l-.94 2.06-2.06.94zm10 10l.94 2.06.94-2.06 2.06-.94-2.06-.94-.94-2.06-.94 2.06-2.06.94z\"/><path d=\"M17.41 7.96l-1.37-1.37c-.4-.4-.92-.59-1.43-.59-.52 0-1.04.2-1.43.59L10.3 9.45l-7.72 7.72c-.78.78-.78 2.05 0 2.83L4 21.41c.39.39.9.59 1.41.59.51 0 1.02-.2 1.41-.59l7.78-7.78 2.81-2.81c.8-.78.8-2.07 0-2.86zM5.41 20L4 18.59l7.72-7.72 1.47 1.35L5.41 20z\"/>\n",
              "  </svg>\n",
              "      </button>\n",
              "      \n",
              "  <style>\n",
              "    .colab-df-container {\n",
              "      display:flex;\n",
              "      flex-wrap:wrap;\n",
              "      gap: 12px;\n",
              "    }\n",
              "\n",
              "    .colab-df-convert {\n",
              "      background-color: #E8F0FE;\n",
              "      border: none;\n",
              "      border-radius: 50%;\n",
              "      cursor: pointer;\n",
              "      display: none;\n",
              "      fill: #1967D2;\n",
              "      height: 32px;\n",
              "      padding: 0 0 0 0;\n",
              "      width: 32px;\n",
              "    }\n",
              "\n",
              "    .colab-df-convert:hover {\n",
              "      background-color: #E2EBFA;\n",
              "      box-shadow: 0px 1px 2px rgba(60, 64, 67, 0.3), 0px 1px 3px 1px rgba(60, 64, 67, 0.15);\n",
              "      fill: #174EA6;\n",
              "    }\n",
              "\n",
              "    [theme=dark] .colab-df-convert {\n",
              "      background-color: #3B4455;\n",
              "      fill: #D2E3FC;\n",
              "    }\n",
              "\n",
              "    [theme=dark] .colab-df-convert:hover {\n",
              "      background-color: #434B5C;\n",
              "      box-shadow: 0px 1px 3px 1px rgba(0, 0, 0, 0.15);\n",
              "      filter: drop-shadow(0px 1px 2px rgba(0, 0, 0, 0.3));\n",
              "      fill: #FFFFFF;\n",
              "    }\n",
              "  </style>\n",
              "\n",
              "      <script>\n",
              "        const buttonEl =\n",
              "          document.querySelector('#df-e8fd9ee4-0cb5-416d-ba59-523a52076759 button.colab-df-convert');\n",
              "        buttonEl.style.display =\n",
              "          google.colab.kernel.accessAllowed ? 'block' : 'none';\n",
              "\n",
              "        async function convertToInteractive(key) {\n",
              "          const element = document.querySelector('#df-e8fd9ee4-0cb5-416d-ba59-523a52076759');\n",
              "          const dataTable =\n",
              "            await google.colab.kernel.invokeFunction('convertToInteractive',\n",
              "                                                     [key], {});\n",
              "          if (!dataTable) return;\n",
              "\n",
              "          const docLinkHtml = 'Like what you see? Visit the ' +\n",
              "            '<a target=\"_blank\" href=https://colab.research.google.com/notebooks/data_table.ipynb>data table notebook</a>'\n",
              "            + ' to learn more about interactive tables.';\n",
              "          element.innerHTML = '';\n",
              "          dataTable['output_type'] = 'display_data';\n",
              "          await google.colab.output.renderOutput(dataTable, element);\n",
              "          const docLink = document.createElement('div');\n",
              "          docLink.innerHTML = docLinkHtml;\n",
              "          element.appendChild(docLink);\n",
              "        }\n",
              "      </script>\n",
              "    </div>\n",
              "  </div>\n",
              "  "
            ]
          },
          "metadata": {},
          "execution_count": 9
        }
      ]
    },
    {
      "cell_type": "markdown",
      "source": [
        "# Create MLP models for each store"
      ],
      "metadata": {
        "id": "hYXCWQGQRZjf"
      }
    },
    {
      "cell_type": "code",
      "source": [
        "train_df['date'] = pd.to_datetime(train_df['date'])"
      ],
      "metadata": {
        "id": "tXx3y7HpQ5_2"
      },
      "execution_count": 11,
      "outputs": []
    },
    {
      "cell_type": "code",
      "source": [
        "mlp_train = train_df[train_df['date']<= datetime(2016,5,10)].groupby(['date','store_nbr']).mean().reset_index(['date','store_nbr'])\n",
        "cols = mlp_train.columns.tolist()\n",
        "\n",
        "# move sales to the last column\n",
        "mlp_train = mlp_train[cols[1:2] + cols[3:] + [cols[2]]]"
      ],
      "metadata": {
        "id": "mSfIU590R7lf"
      },
      "execution_count": 37,
      "outputs": []
    },
    {
      "cell_type": "code",
      "source": [
        "# split a multivariate sequence into samples\n",
        "def split_sequences(sequences, n_steps):\n",
        "\tX, y = list(), list()\n",
        "\tfor i in range(len(sequences)):\n",
        "\t\t# find the end of this pattern\n",
        "\t\tend_ix = i + n_steps\n",
        "\t\t# check if we are beyond the dataset\n",
        "\t\tif end_ix > len(sequences):\n",
        "\t\t\tbreak\n",
        "\t\t# gather input and output parts of the pattern\n",
        "\t\tseq_x, seq_y = sequences[i:end_ix, :-1], sequences[end_ix-1, -1]\n",
        "\t\tX.append(seq_x)\n",
        "\t\ty.append(seq_y)\n",
        "\treturn np.array(X), np.array(y)"
      ],
      "metadata": {
        "id": "giPiQB1OwtN7"
      },
      "execution_count": 35,
      "outputs": []
    },
    {
      "cell_type": "code",
      "source": [
        "# choose a number of time steps\n",
        "n_steps = 7\n",
        "\n",
        "def fit_mlp(store_nbr):\n",
        "\n",
        "  # convert into input/output\n",
        "  X, y = split_sequences(mlp_train[mlp_train[\"store_nbr\"] == store_nbr].to_numpy(), n_steps) \n",
        "\n",
        "  # flatten input\n",
        "  n_input = X.shape[1] * X.shape[2]\n",
        "  X = X.reshape((X.shape[0], n_input))\n",
        "\n",
        "  # define model\n",
        "  model = Sequential()\n",
        "  model.add(Dense(100, activation='relu', input_dim=n_input))\n",
        "  model.add(Dense(1))\n",
        "  model.compile(optimizer='adam', loss='mse')\n",
        "\n",
        "  # fit model\n",
        "  model.fit(X, y, epochs=500, verbose=0)\n",
        "\n",
        "  # demonstrate prediction\n",
        "  validation = train_df[train_df['date']> datetime(2016,5,10)].groupby(['date','store_nbr']).mean().reset_index(['date','store_nbr'])\n",
        "  validation = validation[cols[1:2] + cols[3:] + [cols[2]]]\n",
        "\n",
        "  X_valid, y_valid = split_sequences(validation[validation[\"store_nbr\"] == store_nbr].to_numpy(), n_steps)\n",
        "\n",
        "  # flatten input\n",
        "  n_input = X_valid.shape[1] * X_valid.shape[2]\n",
        "  X_valid = X_valid.reshape((X_valid.shape[0], n_input))\n",
        "\n",
        "  y_hat = model.predict(X_valid, verbose=0)\n",
        "\n",
        "  print(\"The MSE for store \" + str(store_nbr) + \" is \" + str(mean_squared_error(y_hat, y_valid)))"
      ],
      "metadata": {
        "id": "lMwMLEe2xSCc"
      },
      "execution_count": 52,
      "outputs": []
    },
    {
      "cell_type": "code",
      "source": [
        "for i in range(1,55):\n",
        "  fit_mlp(i)"
      ],
      "metadata": {
        "colab": {
          "base_uri": "https://localhost:8080/"
        },
        "id": "jYZYwOQiytU_",
        "outputId": "5f751ace-d286-4c0b-c49b-2be42b7ef2b8"
      },
      "execution_count": 53,
      "outputs": [
        {
          "output_type": "stream",
          "name": "stdout",
          "text": [
            "The MSE for store 1 is 17902.100970548607\n",
            "The MSE for store 2 is 86383.51228120975\n",
            "The MSE for store 3 is 383386.2466318972\n",
            "The MSE for store 4 is 24421.88981132976\n",
            "The MSE for store 5 is 31390.46487252767\n",
            "The MSE for store 6 is 41372.907311171904\n",
            "The MSE for store 7 is 149068.7770655555\n",
            "The MSE for store 8 is 136518.8430766703\n",
            "The MSE for store 9 is 48286.90650212254\n",
            "The MSE for store 10 is 3402.632793793283\n",
            "The MSE for store 11 is 51662.807943928194\n",
            "The MSE for store 12 is 1809.395829499601\n",
            "The MSE for store 13 is 2694.686913263808\n",
            "The MSE for store 14 is 2769.833509973539\n",
            "The MSE for store 15 is 2755.5297982656543\n",
            "The MSE for store 16 is 10677.52917685454\n",
            "The MSE for store 17 is 19815.964652527786\n",
            "The MSE for store 18 is 18348.40462312023\n",
            "The MSE for store 19 is 4814.771994912709\n",
            "The MSE for store 20 is 30290.91653659865\n",
            "The MSE for store 21 is 10309.056684869212\n",
            "The MSE for store 22 is 2423.5881838266555\n",
            "The MSE for store 23 is 2253.661271533557\n",
            "The MSE for store 24 is 37492.87680224047\n",
            "The MSE for store 25 is 35930.795799594285\n",
            "The MSE for store 26 is 6547.375494901744\n",
            "The MSE for store 27 is 7412.560197796215\n",
            "The MSE for store 28 is 14689.090726443277\n",
            "The MSE for store 29 is 7413.076330936822\n",
            "The MSE for store 30 is 1747.6656366321195\n",
            "The MSE for store 31 is 7619.339913924889\n",
            "The MSE for store 32 is 4044.953435837721\n",
            "The MSE for store 33 is 11388.568591884065\n",
            "The MSE for store 34 is 4984.694350216266\n",
            "The MSE for store 35 is 4368.874515695045\n",
            "The MSE for store 36 is 18184.13531522843\n",
            "The MSE for store 37 is 39854.332972617936\n",
            "The MSE for store 38 is 13776.072490236376\n",
            "The MSE for store 39 is 25291.558097786186\n",
            "The MSE for store 40 is 7749.613610199995\n",
            "The MSE for store 41 is 6561.257787948673\n",
            "The MSE for store 42 is 8313.541102452939\n",
            "The MSE for store 43 is 11851.094859911182\n",
            "The MSE for store 44 is 718883.1428998271\n",
            "The MSE for store 45 is 290976.91307146417\n",
            "The MSE for store 46 is 101847.0230993148\n",
            "The MSE for store 47 is 223634.3813125981\n",
            "The MSE for store 48 is 78649.14834326375\n",
            "The MSE for store 49 is 254006.64092003173\n",
            "The MSE for store 50 is 38290.859967018114\n",
            "The MSE for store 51 is 36908.29572325585\n",
            "The MSE for store 52 is 130555.10140809804\n",
            "The MSE for store 53 is 24901.69142754872\n",
            "The MSE for store 54 is 8788.419753143713\n"
          ]
        }
      ]
    },
    {
      "cell_type": "code",
      "source": [
        ""
      ],
      "metadata": {
        "id": "jDYXTsKO1Mc_"
      },
      "execution_count": null,
      "outputs": []
    }
  ]
}